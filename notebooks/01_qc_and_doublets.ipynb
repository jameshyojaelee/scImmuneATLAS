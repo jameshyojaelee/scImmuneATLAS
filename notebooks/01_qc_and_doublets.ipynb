{
  "cells": [
    {
      "cell_type": "markdown",
      "metadata": {},
      "source": [
        "# Quality Control and Doublet Detection\n",
        "\n",
        "This notebook demonstrates QC filtering and doublet detection.\n"
      ]
    },
    {
      "cell_type": "code",
      "execution_count": null,
      "metadata": {},
      "outputs": [],
      "source": [
        "import sys\n",
        "sys.path.append('../src')\n",
        "\n",
        "import pandas as pd\n",
        "import scanpy as sc\n",
        "import matplotlib.pyplot as plt\n",
        "\n",
        "from atlas.utils import load_config\n",
        "from atlas.qc import compute_qc_metrics, apply_filters\n",
        "from atlas.doublets import run_scrublet, filter_doublets\n"
      ]
    }
  ],
  "metadata": {
    "language_info": {
      "name": "python"
    }
  },
  "nbformat": 4,
  "nbformat_minor": 2
}
