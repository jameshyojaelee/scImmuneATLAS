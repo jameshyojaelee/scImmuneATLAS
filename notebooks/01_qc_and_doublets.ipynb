{
  "cells": [
    {
      "cell_type": "markdown",
      "metadata": {},
      "source": [
        "# Quality Control and Doublet Detection\n",
        "\n",
        "This notebook demonstrates QC filtering and doublet detection.\n"
      ]
    },
    {
      "cell_type": "code",
      "execution_count": 1,
      "metadata": {},
      "outputs": [
        {
          "ename": "NameError",
          "evalue": "name 'load_config' is not defined",
          "output_type": "error",
          "traceback": [
            "\u001b[0;31m---------------------------------------------------------------------------\u001b[0m",
            "\u001b[0;31mNameError\u001b[0m                                 Traceback (most recent call last)",
            "Cell \u001b[0;32mIn[1], line 2\u001b[0m\n\u001b[1;32m      1\u001b[0m \u001b[38;5;66;03m# Quick QC + doublets demo using config datasets (first one)\u001b[39;00m\n\u001b[0;32m----> 2\u001b[0m config \u001b[38;5;241m=\u001b[39m \u001b[43mload_config\u001b[49m(\u001b[38;5;124m'\u001b[39m\u001b[38;5;124m../config/atlas.yaml\u001b[39m\u001b[38;5;124m'\u001b[39m)\n\u001b[1;32m      3\u001b[0m first \u001b[38;5;241m=\u001b[39m config[\u001b[38;5;124m'\u001b[39m\u001b[38;5;124mdatasets\u001b[39m\u001b[38;5;124m'\u001b[39m][\u001b[38;5;241m0\u001b[39m]\n\u001b[1;32m      4\u001b[0m \u001b[38;5;28mprint\u001b[39m(\u001b[38;5;124m'\u001b[39m\u001b[38;5;124mUsing dataset:\u001b[39m\u001b[38;5;124m'\u001b[39m, first[\u001b[38;5;124m'\u001b[39m\u001b[38;5;124mid\u001b[39m\u001b[38;5;124m'\u001b[39m])\n",
            "\u001b[0;31mNameError\u001b[0m: name 'load_config' is not defined"
          ]
        }
      ],
      "source": [
        "# Quick QC + doublets demo using config datasets (first one)\n",
        "config = load_config('../config/atlas.yaml')\n",
        "first = config['datasets'][0]\n",
        "print('Using dataset:', first['id'])\n",
        "import anndata as ad\n",
        "adata = ad.read_h5ad(f\"../{first['url']}\")\n",
        "adata_qc = compute_qc_metrics(adata)\n",
        "adata_qc = apply_filters(adata_qc, config['qc'])\n",
        "from atlas.doublets import run_scrublet, filter_doublets\n",
        "scores = run_scrublet(adata_qc, config['doublets']['expected_doublet_rate'])\n",
        "adata_f = filter_doublets(adata_qc, scores)\n",
        "print(adata.shape, '->', adata_qc.shape, '->', adata_f.shape)\n",
        "\n"
      ]
    },
    {
      "cell_type": "code",
      "execution_count": null,
      "metadata": {},
      "outputs": [],
      "source": [
        "import sys\n",
        "sys.path.append('../src')\n",
        "\n",
        "import pandas as pd\n",
        "import scanpy as sc\n",
        "import matplotlib.pyplot as plt\n",
        "\n",
        "from atlas.utils import load_config\n",
        "from atlas.qc import compute_qc_metrics, apply_filters\n",
        "from atlas.doublets import run_scrublet, filter_doublets\n"
      ]
    }
  ],
  "metadata": {
    "kernelspec": {
      "display_name": "nk_orf_py310",
      "language": "python",
      "name": "python3"
    },
    "language_info": {
      "codemirror_mode": {
        "name": "ipython",
        "version": 3
      },
      "file_extension": ".py",
      "mimetype": "text/x-python",
      "name": "python",
      "nbconvert_exporter": "python",
      "pygments_lexer": "ipython3",
      "version": "3.10.18"
    }
  },
  "nbformat": 4,
  "nbformat_minor": 2
}
