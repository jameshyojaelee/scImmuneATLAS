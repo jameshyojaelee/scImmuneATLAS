{
  "cells": [
    {
      "cell_type": "markdown",
      "metadata": {},
      "source": [
        "# Dataset Integration\n",
        "\n",
        "This notebook demonstrates dataset integration using scVI or Harmony.\n"
      ]
    },
    {
      "cell_type": "code",
      "execution_count": null,
      "metadata": {},
      "outputs": [],
      "source": [
        "# Run integration (Harmony fallback will be used automatically if scvi-tools missing)\n",
        "import subprocess, sys\n",
        "ret = subprocess.run([\n",
        "    sys.executable, '-m', 'src.atlas.integration', '--config', '../config/atlas.yaml'\n",
        "], check=False)\n",
        "print('Integration return code:', ret.returncode)\n",
        "\n"
      ]
    }
  ],
  "metadata": {
    "language_info": {
      "name": "python"
    }
  },
  "nbformat": 4,
  "nbformat_minor": 2
}
