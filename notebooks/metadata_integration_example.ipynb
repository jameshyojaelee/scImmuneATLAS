{
 "cells": [
  {
   "cell_type": "markdown",
   "metadata": {},
   "source": [
    "# Clinical Metadata Integration Example\n",
    "\n",
    "This scaffold notebook shows how to merge clinical outcomes or TCR clonotype data with the atlas. Replace the sample DataFrame with project-specific metadata before plotting."
   ]
  },
  {
   "cell_type": "code",
   "execution_count": null,
   "metadata": {},
   "outputs": [],
   "source": [
    "import pandas as pd\n",
    "import anndata as ad\n",
    "from pathlib import Path\n",
    "\n",
    "adata = ad.read_h5ad(Path('processed') / 'integrated_annotated.h5ad')\n",
    "clinical = pd.read_csv('data/external/clinical_template.csv')  # placeholder path\n",
    "merged = adata.obs.join(clinical.set_index('cell_id'), how='left')\n",
    "merged.head()"
   ]
  }
 ],
 "metadata": {
  "kernelspec": {
   "display_name": "Python 3",
   "language": "python",
   "name": "python3"
  },
  "language_info": {
   "name": "python",
   "version": "3.10"
  }
 },
 "nbformat": 4,
 "nbformat_minor": 5
}
