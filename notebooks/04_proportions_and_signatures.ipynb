{
  "cells": [
    {
      "cell_type": "markdown",
      "metadata": {},
      "source": [
        "# Cell Type Proportions and Signature Analysis\n",
        "\n",
        "This notebook analyzes cell type proportions across conditions and datasets.\n"
      ]
    },
    {
      "cell_type": "code",
      "execution_count": null,
      "metadata": {},
      "outputs": [],
      "source": [
        "# Proportions by cancer type and dataset\n",
        "import scanpy as sc\n",
        "import pandas as pd\n",
        "import matplotlib.pyplot as plt\n",
        "adata = sc.read_h5ad('../processed/integrated_annotated.h5ad')\n",
        "# Use preserved cell_type\n",
        "ct = adata.obs[['cancer_type','dataset_id','cell_type']].copy()\n",
        "prop_by_cancer = (ct.groupby(['cancer_type','cell_type']).size()\n",
        "                    .groupby(level=0).apply(lambda s: s/s.sum())\n",
        "                    .reset_index(name='prop'))\n",
        "plt.figure(figsize=(10,5))\n",
        "for ct_name, sub in prop_by_cancer.groupby('cancer_type'):\n",
        "    sub_pivot = sub.pivot(index='cancer_type', columns='cell_type', values='prop')\n",
        "    sub_pivot.plot(kind='bar', stacked=True, legend=False)\n",
        "plt.title('Cell type composition by cancer type')\n",
        "plt.tight_layout()\n",
        "plt.show()\n",
        "\n"
      ]
    }
  ],
  "metadata": {
    "language_info": {
      "name": "python"
    }
  },
  "nbformat": 4,
  "nbformat_minor": 2
}
