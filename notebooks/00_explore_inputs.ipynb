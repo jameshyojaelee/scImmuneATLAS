{
  "cells": [
    {
      "cell_type": "markdown",
      "metadata": {},
      "source": [
        "# Explore Input Datasets\n",
        "\n",
        "This notebook explores the raw input datasets before processing.\n"
      ]
    },
    {
      "cell_type": "code",
      "execution_count": null,
      "metadata": {},
      "outputs": [],
      "source": [
        "import sys\n",
        "sys.path.append('../src')\n",
        "\n",
        "import pandas as pd\n",
        "import scanpy as sc\n",
        "import matplotlib.pyplot as plt\n",
        "import seaborn as sns\n",
        "\n",
        "from atlas.utils import load_config\n",
        "from atlas.io import load_matrix\n"
      ]
    },
    {
      "cell_type": "code",
      "execution_count": null,
      "metadata": {},
      "outputs": [],
      "source": [
        "# Load configuration\n",
        "config = load_config('../config/atlas.yaml')\n",
        "print(f\"Project: {config['project_name']}\")\n",
        "print(f\"Datasets: {len(config['datasets'])}\")\n",
        "\n",
        "# TODO: Replace with real dataset exploration when URLs are provided\n"
      ]
    }
  ],
  "metadata": {
    "language_info": {
      "name": "python"
    }
  },
  "nbformat": 4,
  "nbformat_minor": 2
}
