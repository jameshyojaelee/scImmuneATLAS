{
  "cells": [
    {
      "cell_type": "markdown",
      "metadata": {},
      "source": [
        "# Cell Type Annotation and Marker Analysis\n",
        "\n",
        "This notebook demonstrates marker-based cell type annotation.\n"
      ]
    },
    {
      "cell_type": "code",
      "execution_count": null,
      "metadata": {},
      "outputs": [],
      "source": [
        "# Run annotation (preserves Census cell_type, adds cell_type_pred)\n",
        "import subprocess, sys\n",
        "ret = subprocess.run([\n",
        "    sys.executable, '-m', 'src.atlas.annotate', '--config', '../config/atlas.yaml'\n",
        "], check=False)\n",
        "print('Annotation return code:', ret.returncode)\n",
        "\n",
        "# Visualize\n",
        "import scanpy as sc\n",
        "adata = sc.read_h5ad('../processed/integrated_annotated.h5ad')\n",
        "sc.pl.umap(adata, color=['cell_type','cell_type_pred'], wspace=0.4)\n",
        "\n"
      ]
    }
  ],
  "metadata": {
    "language_info": {
      "name": "python"
    }
  },
  "nbformat": 4,
  "nbformat_minor": 2
}
